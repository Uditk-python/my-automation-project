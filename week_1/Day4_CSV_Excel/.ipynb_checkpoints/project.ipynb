{
 "cells": [
  {
   "cell_type": "code",
   "execution_count": 1,
   "id": "d15bd7c6-c989-45fc-8205-71e70ca27a9d",
   "metadata": {},
   "outputs": [],
   "source": [
    "import os\n",
    "import pandas as pd\n",
    "import csv"
   ]
  },
  {
   "cell_type": "code",
   "execution_count": 5,
   "id": "3cf8e4ed-f421-40d0-ba59-d68c41bba365",
   "metadata": {},
   "outputs": [
    {
     "name": "stdin",
     "output_type": "stream",
     "text": [
      "enter the path of csv file C:\\first in coding\\csv_files\\udit.csv\n",
      "enter the path of excel file C:\\first in coding\\csv_files\\udi.xlsx\n"
     ]
    },
    {
     "name": "stdout",
     "output_type": "stream",
     "text": [
      "hdwud\n"
     ]
    }
   ],
   "source": [
    "pah=input(\"enter the path of csv file\")\n",
    "hell=input(\"enter the path of excel file\")\n",
    "if os.path.exists(pah) :\n",
    "    udit=pd.read_csv(pah)\n",
    "    udit.to_excel(hell,index=False)"
   ]
  },
  {
   "cell_type": "code",
   "execution_count": null,
   "id": "a8146780-ead2-434d-9fdd-7087aaa89c6d",
   "metadata": {},
   "outputs": [],
   "source": []
  }
 ],
 "metadata": {
  "kernelspec": {
   "display_name": "Python 3 (ipykernel)",
   "language": "python",
   "name": "python3"
  },
  "language_info": {
   "codemirror_mode": {
    "name": "ipython",
    "version": 3
   },
   "file_extension": ".py",
   "mimetype": "text/x-python",
   "name": "python",
   "nbconvert_exporter": "python",
   "pygments_lexer": "ipython3",
   "version": "3.13.1"
  }
 },
 "nbformat": 4,
 "nbformat_minor": 5
}
